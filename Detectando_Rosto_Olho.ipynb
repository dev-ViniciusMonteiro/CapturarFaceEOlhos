{
 "cells": [
  {
   "cell_type": "markdown",
   "metadata": {},
   "source": [
    "# Capturando Face e olhos com haar cascade - Vinicius Monteiro Orlandi"
   ]
  },
  {
   "cell_type": "code",
   "execution_count": 1,
   "metadata": {},
   "outputs": [],
   "source": [
    "import cv2\n",
    "import os\n",
    "import numpy as np"
   ]
  },
  {
   "cell_type": "code",
   "execution_count": 2,
   "metadata": {},
   "outputs": [],
   "source": [
    "arqCasc1 = \"haarcascade_frontalface_alt2.xml\"\n",
    "arqCasc3 = \"haarcascade_frontalface_default.xml\"\n",
    "arqCasc2 = 'haarcascade_eye.xml'\n",
    "faceCascade1 = cv2.CascadeClassifier(arqCasc1) #classificador para o rosto\n",
    "faceCascade3 = cv2.CascadeClassifier(arqCasc3)\n",
    "faceCascade2 = cv2.CascadeClassifier(arqCasc2) #classificador para os olhos\n",
    " "
   ]
  },
  {
   "cell_type": "markdown",
   "metadata": {},
   "source": [
    "# Utilizo 2 treinamentos de face e um de olho pois ambos de face tinha bugs mas os dois juntos minimiza os bugs mas aumenta numero de imagens"
   ]
  },
  {
   "cell_type": "markdown",
   "metadata": {},
   "source": [
    "# Utilizo os olhos como um gatilho, para se ter uma face nítida tem que conseguir ver os olho, somente salva nessa circunstancia - mas muitas vezes esse gatilho acaba acionado atoa mas como ele não passa de apenas uma conferencia(pente-fino) sobre a imagem eu corto somente os rostos detectados.\n",
    "."
   ]
  },
  {
   "cell_type": "code",
   "execution_count": 3,
   "metadata": {},
   "outputs": [],
   "source": [
    "controle = 0\n",
    "# Crop Padding\n",
    "left = 10\n",
    "right = 10\n",
    "top = 10\n",
    "bottom = 10\n",
    "\n",
    "\n"
   ]
  },
  {
   "cell_type": "code",
   "execution_count": 4,
   "metadata": {},
   "outputs": [],
   "source": [
    "\n",
    "Video = cv2.VideoCapture('ufc.mp4')  #instancia o uso do video\n",
    "\n"
   ]
  },
  {
   "cell_type": "markdown",
   "metadata": {},
   "source": [
    "# Diminuir a velocidade pega muitos rostos e dependendo do computador pode bugar - scaleFactor=2 para um funcionamento bom sem bugs , scaleFactor=1.1 para muitos rostos. Em todos.\n",
    "\n",
    "# Os numeros nos nomes de arquivos equivalem em tamanho grande e cortado somente o rosto"
   ]
  },
  {
   "cell_type": "code",
   "execution_count": 5,
   "metadata": {
    "scrolled": true
   },
   "outputs": [],
   "source": [
    "while True:\n",
    "    s, imagem = Video.read() #pega efeticamente a imagem do video freme a freme\n",
    "    imagem = cv2.flip(imagem,180) #espelha a imagem\n",
    " \n",
    "    faces = faceCascade1.detectMultiScale(#atribui parametros de tamanho e recebe a imagem para detectar a face frontal de pessoas\n",
    "        imagem,\n",
    "        scaleFactor=1.1,#se for video lento manter escala mas se for com movimentos rapidos diminuir min: 1.1(menor nao funciona)\n",
    "        minNeighbors=10,\n",
    "        minSize=(10, 10),\n",
    "        maxSize=(600,600)\n",
    "    )\n",
    "    \n",
    "    faces2 = faceCascade3.detectMultiScale(#atribui parametros de tamanho e recebe a imagem para detectar a face frontal de pessoas\n",
    "        imagem,\n",
    "        scaleFactor=1.1,#se for video lento manter escala mas se for com movimentos rapidos diminuir min: 1.1(menor nao funciona)\n",
    "        minNeighbors=10,\n",
    "        minSize=(10, 10),\n",
    "        maxSize=(600,600)\n",
    "    )\n",
    " \n",
    "    olhos = faceCascade2.detectMultiScale(#atribui parametros de tamanho e recebe a imgaem e detecta olhos\n",
    "        imagem,\n",
    "        scaleFactor=1.1,#se for video lento manter escala mas se for com movimentos rapidos diminuir min: 1.1(menor nao funciona)\n",
    "        minNeighbors=9,\n",
    "        minSize=(9, 9),\n",
    "        maxSize=(90,90)\n",
    "    )\n",
    "    \n",
    "    \n",
    "    \n",
    "    \n",
    " \n",
    "    # Desenha um retangulo nas faces e olhos detectados\n",
    "    for (facex, facey, facew, faceh) in faces:\n",
    "        cv2.rectangle(imagem, (facex, facey), (facex+facew, facey+faceh), (0, 0, 255), 4)\n",
    "        \n",
    "        \n",
    "\n",
    "        #feito um modelo para salvar as fotos em varias pastas diferentes\n",
    " \n",
    "        \n",
    "        for (x, y, w, h) in olhos: #caso detectar rosto ele detecta o olho\n",
    "                cv2.rectangle(imagem, (x, y), (x+w, y+h), (255, 0, 0), 2)\n",
    "                image  = imagem[facey-top:facey+faceh+bottom, facex-left:facex+facew+right]#caso tenha algum olho detectado junto a face ele corta somente o rosto \n",
    "                \n",
    "                if len(image) == False:\n",
    "                    image  = imagem\n",
    "\n",
    "                if(controle<=150):\n",
    "                    cv2.imwrite('./VideosInteiros/1/Video'+str(controle)+'.jpg', imagem)#salva somente se pegar o olho e rosto\n",
    "                    #pode ter bug pois as vezes detecta olho onde nao tem\n",
    "                    cv2.imwrite('./VideosCortados/1/Video'+str(controle)+'.jpg', image)\n",
    "                if(controle>=151):\n",
    "                    cv2.imwrite('./VideosInteiros/2/Video'+str(controle)+'.jpg', imagem)#salva somente se pegar o olho e rosto\n",
    "                    #pode ter bug pois as vezes detecta olho onde nao tem\n",
    "                    cv2.imwrite('./VideosCortados/2/Video'+str(controle)+'.jpg', image)\n",
    "                if(controle>=450):\n",
    "                    cv2.imwrite('./VideosInteiros/3/Video'+str(controle)+'.jpg', imagem)#salva somente se pegar o olho e rosto\n",
    "                    #pode ter bug pois as vezes detecta olho onde nao tem\n",
    "                    cv2.imwrite('./VideosCortados/3/Video'+str(controle)+'.jpg', image)\n",
    "                if(controle>=750):\n",
    "                    cv2.imwrite('./VideosInteiros/4/Video'+str(controle)+'.jpg', imagem)#salva somente se pegar o olho e rosto\n",
    "                    #pode ter bug pois as vezes detecta olho onde nao tem\n",
    "                    cv2.imwrite('./VideosCortados/4/Video'+str(controle)+'.jpg', image)\n",
    "                if(controle>=1000):\n",
    "                    cv2.imwrite('./VideosInteiros/5/Video'+str(controle)+'.jpg', imagem)#salva somente se pegar o olho e rosto\n",
    "                    cv2.imwrite('./VideosCortados/5/Video'+str(controle)+'.jpg', image)\n",
    "                if(controle>=1250):\n",
    "                    cv2.imwrite('./VideosInteiros/6/Video'+str(controle)+'.jpg', imagem)#salva somente se pegar o olho e rosto\n",
    "                    #pode ter bug pois as vezes detecta olho onde nao tem\n",
    "                    cv2.imwrite('./VideosCortados/6/Video'+str(controle)+'.jpg', image)\n",
    "                controle=controle+1\n",
    "                \n",
    "    # Outro treinamento para ter mais acertividade\n",
    "    for (facex, facey, facew, faceh) in faces2:\n",
    "        cv2.rectangle(imagem, (facex, facey), (facex+facew, facey+faceh), (0, 0, 255), 4)\n",
    "\n",
    "        \n",
    "        \n",
    "        for (x, y, w, h) in olhos: #caso detectar rosto ele detecta o olho\n",
    "                cv2.rectangle(imagem, (x, y), (x+w, y+h), (255, 0, 0), 2)\n",
    "                image  = imagem[facey-top:facey+faceh+bottom, facex-left:facex+facew+right]#caso tenha algum olho detectado junto a face ele corta somente o rosto \n",
    "                \n",
    "                if len(image) == False:\n",
    "                    image  = imagem\n",
    "                \n",
    "                if(controle<=150):\n",
    "                    cv2.imwrite('./VideosInteiros/1/Video'+str(controle)+'.jpg', imagem)#salva somente se pegar o olho e rosto\n",
    "                    #pode ter bug pois as vezes detecta olho onde nao tem\n",
    "                    cv2.imwrite('./VideosCortados/1/Video'+str(controle)+'.jpg', image)\n",
    "                if(controle>=151):\n",
    "                    cv2.imwrite('./VideosInteiros/2/Video'+str(controle)+'.jpg', imagem)#salva somente se pegar o olho e rosto\n",
    "                    #pode ter bug pois as vezes detecta olho onde nao tem\n",
    "                    cv2.imwrite('./VideosCortados/2/Video'+str(controle)+'.jpg', image)\n",
    "                if(controle>=450):\n",
    "                    cv2.imwrite('./VideosInteiros/3/Video'+str(controle)+'.jpg', imagem)#salva somente se pegar o olho e rosto\n",
    "                    #pode ter bug pois as vezes detecta olho onde nao tem\n",
    "                    cv2.imwrite('./VideosCortados/3/Video'+str(controle)+'.jpg', image)\n",
    "                if(controle>=750):\n",
    "                    cv2.imwrite('./VideosInteiros/4/Video'+str(controle)+'.jpg', imagem)#salva somente se pegar o olho e rosto\n",
    "                    #pode ter bug pois as vezes detecta olho onde nao tem\n",
    "                    cv2.imwrite('./VideosCortados/4/Video'+str(controle)+'.jpg', image)\n",
    "                if(controle>=1000):\n",
    "                    cv2.imwrite('./VideosInteiros/5/Video'+str(controle)+'.jpg', imagem)#salva somente se pegar o olho e rosto\n",
    "                    cv2.imwrite('./VideosCortados/5/Video'+str(controle)+'.jpg', image)\n",
    "                if(controle>=1250):\n",
    "                    cv2.imwrite('./VideosInteiros/6/Video'+str(controle)+'.jpg', imagem)#salva somente se pegar o olho e rosto\n",
    "                    #pode ter bug pois as vezes detecta olho onde nao tem\n",
    "                    cv2.imwrite('./VideosCortados/6/Video'+str(controle)+'.jpg', image)\n",
    "                controle=controle+1\n",
    " \n",
    "    cv2.imshow('Video', imagem) #mostra a imagem captura na janela\n",
    " \n",
    "    #fechar janela q ou 1\n",
    "    if cv2.waitKey(1) & 0xFF == ord('q'):\n",
    "        break\n",
    " \n",
    "Video.release() #dispensa o uso da webcam\n",
    "cv2.destroyAllWindows() #fecha todas a janelas abertas"
   ]
  },
  {
   "cell_type": "code",
   "execution_count": null,
   "metadata": {},
   "outputs": [],
   "source": []
  },
  {
   "cell_type": "code",
   "execution_count": null,
   "metadata": {},
   "outputs": [],
   "source": []
  }
 ],
 "metadata": {
  "kernelspec": {
   "display_name": "Python 3",
   "language": "python",
   "name": "python3"
  },
  "language_info": {
   "codemirror_mode": {
    "name": "ipython",
    "version": 3
   },
   "file_extension": ".py",
   "mimetype": "text/x-python",
   "name": "python",
   "nbconvert_exporter": "python",
   "pygments_lexer": "ipython3",
   "version": "3.8.2"
  }
 },
 "nbformat": 4,
 "nbformat_minor": 4
}
